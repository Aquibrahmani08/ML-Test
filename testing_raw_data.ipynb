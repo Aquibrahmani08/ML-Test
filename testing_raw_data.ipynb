{
 "cells": [
  {
   "cell_type": "markdown",
   "id": "6bdf10a1",
   "metadata": {},
   "source": [
    "# Loading of best model"
   ]
  },
  {
   "cell_type": "code",
   "execution_count": 2,
   "id": "93113f58",
   "metadata": {},
   "outputs": [],
   "source": [
    "import pandas as pd\n",
    "import joblib"
   ]
  },
  {
   "cell_type": "code",
   "execution_count": 3,
   "id": "46bf0a0b",
   "metadata": {},
   "outputs": [
    {
     "name": "stdout",
     "output_type": "stream",
     "text": [
      "KNeighborsRegressor(n_neighbors=2)\n"
     ]
    }
   ],
   "source": [
    "fname='KNN_regV2.sav'\n",
    "save_model=joblib.load(fname)\n",
    "print(save_model)"
   ]
  },
  {
   "cell_type": "code",
   "execution_count": 4,
   "id": "b51992a3",
   "metadata": {},
   "outputs": [
    {
     "data": {
      "text/html": [
       "<div>\n",
       "<style scoped>\n",
       "    .dataframe tbody tr th:only-of-type {\n",
       "        vertical-align: middle;\n",
       "    }\n",
       "\n",
       "    .dataframe tbody tr th {\n",
       "        vertical-align: top;\n",
       "    }\n",
       "\n",
       "    .dataframe thead th {\n",
       "        text-align: right;\n",
       "    }\n",
       "</style>\n",
       "<table border=\"1\" class=\"dataframe\">\n",
       "  <thead>\n",
       "    <tr style=\"text-align: right;\">\n",
       "      <th></th>\n",
       "      <th>surface</th>\n",
       "      <th>rooms_new</th>\n",
       "      <th>zipcode_new</th>\n",
       "    </tr>\n",
       "  </thead>\n",
       "  <tbody>\n",
       "    <tr>\n",
       "      <th>0</th>\n",
       "      <td>130</td>\n",
       "      <td>5</td>\n",
       "      <td>1025</td>\n",
       "    </tr>\n",
       "    <tr>\n",
       "      <th>1</th>\n",
       "      <td>120</td>\n",
       "      <td>7</td>\n",
       "      <td>1030</td>\n",
       "    </tr>\n",
       "    <tr>\n",
       "      <th>2</th>\n",
       "      <td>150</td>\n",
       "      <td>9</td>\n",
       "      <td>1080</td>\n",
       "    </tr>\n",
       "    <tr>\n",
       "      <th>3</th>\n",
       "      <td>160</td>\n",
       "      <td>4</td>\n",
       "      <td>1090</td>\n",
       "    </tr>\n",
       "  </tbody>\n",
       "</table>\n",
       "</div>"
      ],
      "text/plain": [
       "   surface  rooms_new  zipcode_new\n",
       "0      130          5         1025\n",
       "1      120          7         1030\n",
       "2      150          9         1080\n",
       "3      160          4         1090"
      ]
     },
     "execution_count": 4,
     "metadata": {},
     "output_type": "execute_result"
    }
   ],
   "source": [
    "#Entering Raw data\n",
    "surface=[130,120,150,160]\n",
    "rooms_new=[5,7,9,4]\n",
    "zipcode_new=[1025,1030,1080,1090]\n",
    "raw_data=pd.DataFrame({'surface':surface,'rooms_new':rooms_new,'zipcode_new':zipcode_new})\n",
    "raw_data\n"
   ]
  },
  {
   "cell_type": "code",
   "execution_count": 5,
   "id": "25e9e7fb",
   "metadata": {},
   "outputs": [
    {
     "data": {
      "text/plain": [
       "array([545000., 687500., 892500., 572250.])"
      ]
     },
     "execution_count": 5,
     "metadata": {},
     "output_type": "execute_result"
    }
   ],
   "source": [
    "save_model.predict(raw_data)"
   ]
  },
  {
   "cell_type": "code",
   "execution_count": null,
   "id": "80da6120",
   "metadata": {},
   "outputs": [],
   "source": []
  }
 ],
 "metadata": {
  "kernelspec": {
   "display_name": "Python 3 (ipykernel)",
   "language": "python",
   "name": "python3"
  },
  "language_info": {
   "codemirror_mode": {
    "name": "ipython",
    "version": 3
   },
   "file_extension": ".py",
   "mimetype": "text/x-python",
   "name": "python",
   "nbconvert_exporter": "python",
   "pygments_lexer": "ipython3",
   "version": "3.11.5"
  }
 },
 "nbformat": 4,
 "nbformat_minor": 5
}
